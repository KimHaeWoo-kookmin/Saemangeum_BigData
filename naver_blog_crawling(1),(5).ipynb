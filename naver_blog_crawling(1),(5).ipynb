{
 "cells": [
  {
   "cell_type": "code",
   "execution_count": 2,
   "id": "fa9a424a",
   "metadata": {},
   "outputs": [],
   "source": [
    "#pip install --upgrade selenium==4.10.0"
   ]
  },
  {
   "cell_type": "markdown",
   "id": "d51f2132",
   "metadata": {},
   "source": [
    "### 키워드에 해당하는 블로그의 링크들을 데이터 프레임으로 추출"
   ]
  },
  {
   "cell_type": "code",
   "execution_count": 1,
   "id": "1dd16a6c",
   "metadata": {},
   "outputs": [],
   "source": [
    "import os\n",
    "import sys\n",
    "import urllib.request\n",
    "import json\n",
    "import pandas as pd\n",
    "\n",
    "def getresult(client_id,client_secret,query,display=10,start=1,sort='sim'):\n",
    "    encText = urllib.parse.quote(query)\n",
    "    url = \"https://openapi.naver.com/v1/search/blog?query=\" + encText + \\\n",
    "    \"&display=\" + str(display) + \"&start=\" + str(start) + \"&sort=\" + sort\n",
    "\n",
    "    request = urllib.request.Request(url)\n",
    "    request.add_header(\"X-Naver-Client-Id\",client_id)\n",
    "    request.add_header(\"X-Naver-Client-Secret\",client_secret)\n",
    "    response = urllib.request.urlopen(request)\n",
    "    rescode = response.getcode()\n",
    "    if(rescode==200):\n",
    "        response_body = response.read()\n",
    "        response_json = json.loads(response_body)\n",
    "    else:\n",
    "        print(\"Error Code:\" + rescode)\n",
    "\n",
    "    return pd.DataFrame(response_json['items'])['link']"
   ]
  },
  {
   "cell_type": "code",
   "execution_count": 7,
   "id": "fd942f47",
   "metadata": {},
   "outputs": [],
   "source": [
    "chungju = ['청남대','대청댐전망대','청주동물원','수암골벽화마을','상당산성','청주랜드']\n",
    "result_all=pd.DataFrame()"
   ]
  },
  {
   "cell_type": "code",
   "execution_count": 8,
   "id": "10741f63",
   "metadata": {},
   "outputs": [],
   "source": [
    "for query in chungju:\n",
    "    client_id = 'frPEZvEmZbkhQTJR4a9u' \n",
    "    client_secret = '2nOa73V0gW' \n",
    "    #query = '동해%2B여행'\n",
    "    display=100\n",
    "    start=1\n",
    "    sort='sim'\n",
    "    #result_all=pd.DataFrame()\n",
    "\n",
    "    for i in range(0,10):\n",
    "        start= 1 + 100*i\n",
    "        result= getresult(client_id,client_secret,query,display,start,sort)\n",
    "        result_all=pd.concat([result_all,result])"
   ]
  },
  {
   "cell_type": "code",
   "execution_count": 9,
   "id": "714df59f",
   "metadata": {},
   "outputs": [],
   "source": [
    "# 네이버 블로그에 해당하는 링크만 추출\n",
    "# 네이버 블로그가 아니면 발생하는 오류들이 존재했었음.\n",
    "\n",
    "result_all = result_all[result_all[0].str.contains('naver')]"
   ]
  },
  {
   "cell_type": "code",
   "execution_count": 10,
   "id": "bc49f2b4",
   "metadata": {},
   "outputs": [],
   "source": [
    "result_all.reset_index(drop=True,inplace=True)"
   ]
  },
  {
   "cell_type": "code",
   "execution_count": 11,
   "id": "bab4dc76",
   "metadata": {},
   "outputs": [
    {
     "data": {
      "text/plain": [
       "(5907, 1)"
      ]
     },
     "execution_count": 11,
     "metadata": {},
     "output_type": "execute_result"
    }
   ],
   "source": [
    "result_all.shape"
   ]
  },
  {
   "cell_type": "code",
   "execution_count": 12,
   "id": "0d4558b8",
   "metadata": {},
   "outputs": [],
   "source": [
    "# 중복값 제거\n",
    "\n",
    "result_all.drop_duplicates(inplace=True)"
   ]
  },
  {
   "cell_type": "code",
   "execution_count": 13,
   "id": "32656fcc",
   "metadata": {},
   "outputs": [],
   "source": [
    "result_all = result_all.reset_index()\n",
    "result_all = result_all.drop(columns='index')"
   ]
  },
  {
   "cell_type": "code",
   "execution_count": 14,
   "id": "0af273f1",
   "metadata": {},
   "outputs": [
    {
     "data": {
      "text/plain": [
       "(5619, 1)"
      ]
     },
     "execution_count": 14,
     "metadata": {},
     "output_type": "execute_result"
    }
   ],
   "source": [
    "result_all.shape"
   ]
  },
  {
   "cell_type": "markdown",
   "id": "c6702bf2",
   "metadata": {},
   "source": [
    "### 데이터 링크들에 각각 반복문으로 접속해서 크롤링"
   ]
  },
  {
   "cell_type": "code",
   "execution_count": null,
   "id": "27f33c2b",
   "metadata": {},
   "outputs": [
    {
     "name": "stderr",
     "output_type": "stream",
     "text": [
      "Incompatible release of chromedriver (version 111.0.5563.64) detected in PATH: /opt/homebrew/bin/chromedriver\n",
      " 38%|█████████████▉                       | 1905/5054 [54:33<2:18:18,  2.64s/it]"
     ]
    }
   ],
   "source": [
    "from selenium import webdriver\n",
    "from selenium.webdriver.common.by import By\n",
    "from selenium.common.exceptions import NoSuchElementException\n",
    "from tqdm import tqdm\n",
    "from selenium.webdriver.chrome.service import Service\n",
    "\n",
    "service = Service(executable_path='\"/Users/hyungson/Desktop/vincent/3-1/textdata/chromedriver-mac-arm64/chromedriver\"')\n",
    "options = webdriver.ChromeOptions()\n",
    "options.add_argument(\"--headless\")  # GUI 없이 실행하려면 주석 해제\n",
    "options.add_argument(\"--no-sandbox\")\n",
    "options.add_argument(\"--disable-dev-shm-usage\")\n",
    "\n",
    "driver = webdriver.Chrome(service=service, options=options)\n",
    "\n",
    "titles = []\n",
    "contents = []\n",
    "links = []\n",
    "total_results = len(result_all)\n",
    "\n",
    "for i in tqdm(range(total_results)):\n",
    "    link = result_all[0][i]\n",
    "    if 'blog.naver.com' in link:\n",
    "        driver.get(result_all[0][i])\n",
    "        driver.implicitly_wait(2)  # time sleep\n",
    "        iframe = driver.find_element(By.ID, 'mainFrame')  # 수정: By.ID 사용\n",
    "        driver.switch_to.frame(iframe)\n",
    "        try:\n",
    "            content = driver.find_element(By.CSS_SELECTOR, 'div.se-main-container').text  # 본문 구좌\n",
    "            content = content.replace('\\n', '')  # 줄바꿈 제거\n",
    "            contents.append(content)\n",
    "            title_tag = driver.find_element(By.TAG_NAME, 'title')  # 태그로 타이틀을 검색\n",
    "            title = title_tag.get_attribute('textContent')\n",
    "            titles.append(title)\n",
    "            links.append(link)\n",
    "        # NoSuchElement 오류시 예외처리(구버전 블로그에 적용)\n",
    "        except NoSuchElementException:\n",
    "            pass\n",
    "\n",
    "driver.quit()\n"
   ]
  },
  {
   "cell_type": "code",
   "execution_count": 16,
   "id": "b38d2765",
   "metadata": {
    "scrolled": true
   },
   "outputs": [
    {
     "data": {
      "text/html": [
       "<div>\n",
       "<style scoped>\n",
       "    .dataframe tbody tr th:only-of-type {\n",
       "        vertical-align: middle;\n",
       "    }\n",
       "\n",
       "    .dataframe tbody tr th {\n",
       "        vertical-align: top;\n",
       "    }\n",
       "\n",
       "    .dataframe thead th {\n",
       "        text-align: right;\n",
       "    }\n",
       "</style>\n",
       "<table border=\"1\" class=\"dataframe\">\n",
       "  <thead>\n",
       "    <tr style=\"text-align: right;\">\n",
       "      <th></th>\n",
       "      <th>title</th>\n",
       "      <th>content</th>\n",
       "      <th>link</th>\n",
       "    </tr>\n",
       "  </thead>\n",
       "  <tbody>\n",
       "    <tr>\n",
       "      <th>0</th>\n",
       "      <td>청주 가볼만한곳 청남대 : 과거 대통령 별장, 현재는 대통령기념관 및 산책코스 ( ...</td>\n",
       "      <td>청주 가볼만한곳 청남대과거 대통령 별장,현재는 대통령기념관 및 산책코스(+ 입장료)...</td>\n",
       "      <td>https://blog.naver.com/ellasha123/223169599078</td>\n",
       "    </tr>\n",
       "    <tr>\n",
       "      <th>1</th>\n",
       "      <td>따뜻한 남쪽의 청남대/대통령 기념관 : 네이버 블로그</td>\n",
       "      <td>청남대/대통령 기념관충북 청주시 상당구 문의면 청남대길 646청남대 본관은 1993...</td>\n",
       "      <td>https://blog.naver.com/parkbg0714/223160811307</td>\n",
       "    </tr>\n",
       "    <tr>\n",
       "      <th>2</th>\n",
       "      <td>청남대 봄기운 가득, 축제로 흥겨움 가득 : 네이버 블로그</td>\n",
       "      <td>지난 주말 영춘제가 열리고 있는 청남대를 다녀왔습니다. 영춘제는 봄을 맞이한다는 의...</td>\n",
       "      <td>https://blog.naver.com/alice8565/223088318794</td>\n",
       "    </tr>\n",
       "    <tr>\n",
       "      <th>3</th>\n",
       "      <td>청주 청남대 맛집 부부농장 : 네이버 블로그</td>\n",
       "      <td>안냐떼어 붕어에요여기 제가 엄청 어렸을 때 비닐하우스? 같은데서먹은 기억이 있는데 ...</td>\n",
       "      <td>https://blog.naver.com/shmwlove6/223066757792</td>\n",
       "    </tr>\n",
       "    <tr>\n",
       "      <th>4</th>\n",
       "      <td>청주 아이와 가볼만한곳-청남대 : 네이버 블로그</td>\n",
       "      <td>청남대는 대전근처에서 가까운 곳에 위치해 있어서 당일로 아이와 함께 다녀오기 좋은곳...</td>\n",
       "      <td>https://blog.naver.com/happymomtour/223138300353</td>\n",
       "    </tr>\n",
       "    <tr>\n",
       "      <th>...</th>\n",
       "      <td>...</td>\n",
       "      <td>...</td>\n",
       "      <td>...</td>\n",
       "    </tr>\n",
       "    <tr>\n",
       "      <th>540</th>\n",
       "      <td>'봄을 봄, 희망을 봄' 2021 청남대 영춘제 : 네이버 블로그</td>\n",
       "      <td>봄기운이 완연해지면서 곳곳에 꽃의 향연이 펼쳐지며청남대에서는 영춘제 축제가 개최되었...</td>\n",
       "      <td>https://blog.naver.com/cjcityblog/222347671826</td>\n",
       "    </tr>\n",
       "    <tr>\n",
       "      <th>541</th>\n",
       "      <td>(청주, 대전근교/여행/가볼만한 곳) 청남대 : 네이버 블로그</td>\n",
       "      <td>대전에 갈 일이 있을 때마다주변에 가볼만한 곳을 찾아본다.수년 전 엄마가 청남대를 ...</td>\n",
       "      <td>https://blog.naver.com/shbaeck/222383683409</td>\n",
       "    </tr>\n",
       "    <tr>\n",
       "      <th>542</th>\n",
       "      <td>청남대 대통령별장 : 네이버 블로그</td>\n",
       "      <td>4월의 봄날치고는몹시도 짓궂게 굴던 어제이른 아침 서울을 출발해서 11쯤청남대에 도...</td>\n",
       "      <td>https://blog.naver.com/indang61/40186881071</td>\n",
       "    </tr>\n",
       "    <tr>\n",
       "      <th>543</th>\n",
       "      <td>청주방향 문의청남대 휴게소 먹거리 간식 커피 / 신전떡볶이 비추천 : 네이버 블로그</td>\n",
       "      <td>안녕하세요 나나입니다.경기도로 휴가 가는 길에 휴게소를 한군데 들렀어요.이름도 생소...</td>\n",
       "      <td>https://blog.naver.com/hnk1280/223170344158</td>\n",
       "    </tr>\n",
       "    <tr>\n",
       "      <th>544</th>\n",
       "      <td>어린이날 봄나들이  [청남대] : 네이버 블로그</td>\n",
       "      <td>5월5일 어린이날5월은 가정의 달이니 가족과 함께 봄나들이 떠나요아쉬운건 큰딸내미 ...</td>\n",
       "      <td>https://blog.naver.com/hmje13/222346074221</td>\n",
       "    </tr>\n",
       "  </tbody>\n",
       "</table>\n",
       "<p>545 rows × 3 columns</p>\n",
       "</div>"
      ],
      "text/plain": [
       "                                                 title   \n",
       "0    청주 가볼만한곳 청남대 : 과거 대통령 별장, 현재는 대통령기념관 및 산책코스 ( ...  \\\n",
       "1                        따뜻한 남쪽의 청남대/대통령 기념관 : 네이버 블로그   \n",
       "2                     청남대 봄기운 가득, 축제로 흥겨움 가득 : 네이버 블로그   \n",
       "3                             청주 청남대 맛집 부부농장 : 네이버 블로그   \n",
       "4                           청주 아이와 가볼만한곳-청남대 : 네이버 블로그   \n",
       "..                                                 ...   \n",
       "540               '봄을 봄, 희망을 봄' 2021 청남대 영춘제 : 네이버 블로그   \n",
       "541                 (청주, 대전근교/여행/가볼만한 곳) 청남대 : 네이버 블로그   \n",
       "542                                청남대 대통령별장 : 네이버 블로그   \n",
       "543     청주방향 문의청남대 휴게소 먹거리 간식 커피 / 신전떡볶이 비추천 : 네이버 블로그   \n",
       "544                         어린이날 봄나들이  [청남대] : 네이버 블로그   \n",
       "\n",
       "                                               content   \n",
       "0    청주 가볼만한곳 청남대과거 대통령 별장,현재는 대통령기념관 및 산책코스(+ 입장료)...  \\\n",
       "1    청남대/대통령 기념관충북 청주시 상당구 문의면 청남대길 646청남대 본관은 1993...   \n",
       "2    지난 주말 영춘제가 열리고 있는 청남대를 다녀왔습니다. 영춘제는 봄을 맞이한다는 의...   \n",
       "3    안냐떼어 붕어에요여기 제가 엄청 어렸을 때 비닐하우스? 같은데서먹은 기억이 있는데 ...   \n",
       "4    청남대는 대전근처에서 가까운 곳에 위치해 있어서 당일로 아이와 함께 다녀오기 좋은곳...   \n",
       "..                                                 ...   \n",
       "540  봄기운이 완연해지면서 곳곳에 꽃의 향연이 펼쳐지며청남대에서는 영춘제 축제가 개최되었...   \n",
       "541  대전에 갈 일이 있을 때마다주변에 가볼만한 곳을 찾아본다.수년 전 엄마가 청남대를 ...   \n",
       "542  4월의 봄날치고는몹시도 짓궂게 굴던 어제이른 아침 서울을 출발해서 11쯤청남대에 도...   \n",
       "543  안녕하세요 나나입니다.경기도로 휴가 가는 길에 휴게소를 한군데 들렀어요.이름도 생소...   \n",
       "544  5월5일 어린이날5월은 가정의 달이니 가족과 함께 봄나들이 떠나요아쉬운건 큰딸내미 ...   \n",
       "\n",
       "                                                 link  \n",
       "0      https://blog.naver.com/ellasha123/223169599078  \n",
       "1      https://blog.naver.com/parkbg0714/223160811307  \n",
       "2       https://blog.naver.com/alice8565/223088318794  \n",
       "3       https://blog.naver.com/shmwlove6/223066757792  \n",
       "4    https://blog.naver.com/happymomtour/223138300353  \n",
       "..                                                ...  \n",
       "540    https://blog.naver.com/cjcityblog/222347671826  \n",
       "541       https://blog.naver.com/shbaeck/222383683409  \n",
       "542       https://blog.naver.com/indang61/40186881071  \n",
       "543       https://blog.naver.com/hnk1280/223170344158  \n",
       "544        https://blog.naver.com/hmje13/222346074221  \n",
       "\n",
       "[545 rows x 3 columns]"
      ]
     },
     "execution_count": 16,
     "metadata": {},
     "output_type": "execute_result"
    }
   ],
   "source": [
    "# 블로그 링크 별 제목, 본문, 링크를 추출해 데이터프레임으로 만듬.\n",
    "\n",
    "import pandas as pd\n",
    "blog_crawl1 = pd.DataFrame({'title':titles,'content':contents,'link':links})\n",
    "blog_crawl1"
   ]
  },
  {
   "cell_type": "code",
   "execution_count": 64,
   "id": "bc3503ec",
   "metadata": {},
   "outputs": [],
   "source": [
    "# 전처리 전, 1차 크롤링 결과 저장\n",
    "\n",
    "blog_crawl.to_csv('blog_keyword_chungju.csv', index = False, encoding='utf-8-sig')"
   ]
  },
  {
   "cell_type": "markdown",
   "id": "f617e849",
   "metadata": {},
   "source": [
    "### 전처리 (함수로 한번에)"
   ]
  },
  {
   "cell_type": "code",
   "execution_count": 65,
   "id": "216c2e4b",
   "metadata": {},
   "outputs": [],
   "source": [
    "from konlpy.tag import Okt\n",
    "import pykospacing\n",
    "import kss\n",
    "import re"
   ]
  },
  {
   "cell_type": "code",
   "execution_count": 66,
   "id": "370bf376",
   "metadata": {},
   "outputs": [],
   "source": [
    "import copy\n",
    "\n",
    "with open('stopwords.txt', 'r', encoding='utf-8') as f:\n",
    "    stopwords = f.readlines()\n",
    "stopwords = [x.replace('\\n','') for x in stopwords] # stopword 파일의 줄바꿈 문자 제거\n",
    "okt = Okt()\n",
    "\n",
    "def preprocess_korean(text):\n",
    "    my_text = copy.copy(text)\n",
    "    my_text = my_text.replace('\\n', '')\n",
    "    spacer = pykospacing.Spacing()\n",
    "    my_text = spacer(my_text) #  띄어쓰기 교정\n",
    "    sents = kss.split_sentences(my_text)#  sentence tokenization\n",
    "    \n",
    "    p = re.compile('[^ㄱ-ㅎㅏ-ㅣ가-힣 ]')\n",
    "    results = []\n",
    "    for sent in sents:\n",
    "        result = []\n",
    "        tokens = okt.morphs(sent, stem=True) # word tokenization\n",
    "        for token in tokens:\n",
    "            token = p.sub('', token) #  특수문자 제거\n",
    "            if token not in stopwords:\n",
    "                result.append(token) #  stopword removal\n",
    "        results.extend(result)\n",
    "    result = ' '.join(results)\n",
    "    \n",
    "    return result\n"
   ]
  },
  {
   "cell_type": "code",
   "execution_count": 67,
   "id": "ebc6e41c",
   "metadata": {},
   "outputs": [],
   "source": [
    "import tqdm\n",
    "from tqdm import trange, notebook, tqdm_pandas, tqdm"
   ]
  },
  {
   "cell_type": "code",
   "execution_count": 68,
   "id": "052aad77",
   "metadata": {},
   "outputs": [],
   "source": [
    "tmp_data = pd.DataFrame(blog_crawl.loc[:,'content'])"
   ]
  },
  {
   "cell_type": "code",
   "execution_count": 69,
   "id": "07a62ae2",
   "metadata": {
    "scrolled": true
   },
   "outputs": [
    {
     "name": "stdout",
     "output_type": "stream",
     "text": [
      "715\n",
      "1268\n",
      "2321\n",
      "2348\n",
      "2378\n",
      "2383\n",
      "2388\n",
      "2439\n",
      "2447\n",
      "2662\n",
      "3226\n",
      "3237\n",
      "3270\n",
      "3417\n",
      "3453\n",
      "3469\n",
      "3485\n"
     ]
    }
   ],
   "source": [
    "# 길이 5000개 이상은 시간소모를 야기하는 듯해서 삭제\n",
    "\n",
    "index = []\n",
    "for i in range(len(blog_crawl)):\n",
    "    if (len(blog_crawl['content'][i])) >= 6000:\n",
    "        print(i)\n",
    "        index.append(i)"
   ]
  },
  {
   "cell_type": "code",
   "execution_count": 70,
   "id": "b3aae43e",
   "metadata": {},
   "outputs": [],
   "source": [
    "tmp_data.drop(index = index, inplace = True)"
   ]
  },
  {
   "cell_type": "code",
   "execution_count": 71,
   "id": "afb5eae2",
   "metadata": {},
   "outputs": [],
   "source": [
    "tmp_data.reset_index(inplace=True)"
   ]
  },
  {
   "cell_type": "code",
   "execution_count": 72,
   "id": "10a13960",
   "metadata": {},
   "outputs": [
    {
     "name": "stderr",
     "output_type": "stream",
     "text": [
      "100%|███████████████████████████████████████| 3486/3486 [23:01<00:00,  2.52it/s]"
     ]
    },
    {
     "name": "stdout",
     "output_type": "stream",
     "text": [
      "CPU times: user 21min 1s, sys: 1min 46s, total: 22min 47s\n",
      "Wall time: 23min 1s\n"
     ]
    },
    {
     "name": "stderr",
     "output_type": "stream",
     "text": [
      "\n"
     ]
    }
   ],
   "source": [
    "%%time\n",
    "tqdm.pandas()\n",
    "tmp_data['preprocessed_content'] = tmp_data['content'].progress_apply(lambda x: preprocess_korean(x))\n"
   ]
  },
  {
   "cell_type": "code",
   "execution_count": 73,
   "id": "376b2c5b",
   "metadata": {
    "scrolled": true
   },
   "outputs": [],
   "source": [
    "tmp_data = tmp_data.drop(columns='index')"
   ]
  },
  {
   "cell_type": "code",
   "execution_count": 74,
   "id": "8a0425ed",
   "metadata": {},
   "outputs": [
    {
     "data": {
      "text/html": [
       "<div>\n",
       "<style scoped>\n",
       "    .dataframe tbody tr th:only-of-type {\n",
       "        vertical-align: middle;\n",
       "    }\n",
       "\n",
       "    .dataframe tbody tr th {\n",
       "        vertical-align: top;\n",
       "    }\n",
       "\n",
       "    .dataframe thead th {\n",
       "        text-align: right;\n",
       "    }\n",
       "</style>\n",
       "<table border=\"1\" class=\"dataframe\">\n",
       "  <thead>\n",
       "    <tr style=\"text-align: right;\">\n",
       "      <th></th>\n",
       "      <th>content</th>\n",
       "      <th>preprocessed_content</th>\n",
       "    </tr>\n",
       "  </thead>\n",
       "  <tbody>\n",
       "    <tr>\n",
       "      <th>0</th>\n",
       "      <td>경기도 아이와 가볼만한곳궁평항 물놀이 주말 방문할아버지 동물농장 갔다가 코스로 많이...</td>\n",
       "      <td>경기도 가다 볼 만 한 곳 궁평항 물놀이 주말 방문 하다 아버지 동물농장 가다 코스...</td>\n",
       "    </tr>\n",
       "    <tr>\n",
       "      <th>1</th>\n",
       "      <td>경기도 화성 궁평항낚시체험 물놀이터글/사진 미니미엄빠요란했던 장맛비도 주춤하고 아이...</td>\n",
       "      <td>경기도 화성 궁평항 낚시 체험 물 놀이터 글  사진 미니 미엄 빠 요란하다 장맛 비...</td>\n",
       "    </tr>\n",
       "    <tr>\n",
       "      <th>2</th>\n",
       "      <td>또 오랜만에 올려보는 포스팅어제 다녀왔는데 만족스러워서 후다닥 써본다-!원래 울애기...</td>\n",
       "      <td>오랜 만 올리다 보다 포스팅 어제 다녀오다 만족스럽다 후 다닥 써다 보다  원래 울...</td>\n",
       "    </tr>\n",
       "    <tr>\n",
       "      <th>3</th>\n",
       "      <td>이번여름은 아들과함께 물놀이터 도장깨기를 해볼까했는데 첫번째는 광교호수공원 분수 물...</td>\n",
       "      <td>여름 은 아들 물 놀이터 도장 깨다 해보다 하다 첫 번 째 는 광교 호수 공원 분수...</td>\n",
       "    </tr>\n",
       "    <tr>\n",
       "      <th>4</th>\n",
       "      <td>궁평항 낚시화성 아이와가볼만한곳©글,사진 준브로맘안녕하세요? 준브로맘이예요~^^지난...</td>\n",
       "      <td>궁평항 낚시 화성 가보다 만 한 곳  글  사진 준 브로 맘 안녕하다  준 브로 맘...</td>\n",
       "    </tr>\n",
       "    <tr>\n",
       "      <th>...</th>\n",
       "      <td>...</td>\n",
       "      <td>...</td>\n",
       "    </tr>\n",
       "    <tr>\n",
       "      <th>3481</th>\n",
       "      <td>화성 용주사 효행박물관 용주사 상량문 –경기 화성 [36]용주사 입구 좌측에 있는 ...</td>\n",
       "      <td>화성 용주사 효행 박물관 용주사 상량문  경기 화성    용주사 입구 좌측 효행 박...</td>\n",
       "    </tr>\n",
       "    <tr>\n",
       "      <th>3482</th>\n",
       "      <td>효찰대본산 용주사대한불교조계종 제2교구 본사주소 / 경기도 화성시 송산동 187-2...</td>\n",
       "      <td>효 차다 본 산 용주사 대 한 불교 조계종  교구 본사 주소  경기도 화성시 송산동...</td>\n",
       "    </tr>\n",
       "    <tr>\n",
       "      <th>3483</th>\n",
       "      <td>응?나는 확인했다! 월요일 휴관 ㅋㅋ공휴일과 정기 휴관일(월요일)이 겹치는 경우당일...</td>\n",
       "      <td>는 확인 하다  월요일 관 ㅋㅋ 공휴일 정기 관일  월요일  겹 치다 경우 당일 ...</td>\n",
       "    </tr>\n",
       "    <tr>\n",
       "      <th>3484</th>\n",
       "      <td>경기도 가볼만한 곳, 화성 용주사에서 특별했던 경험(ft. 대웅보전)경기도 화성 1...</td>\n",
       "      <td>경기도 가다 볼 만 한 곳  화성 용주사 특별하다 경험    대웅보전  경기도 화성...</td>\n",
       "    </tr>\n",
       "    <tr>\n",
       "      <th>3485</th>\n",
       "      <td>용주사는 신라 문성왕(854년) 때 창건되었지만 병자호란 때 소실되어 폐사되었다가 ...</td>\n",
       "      <td>용주사 는 신라 문성왕   창건 되어다 병자 호란 소실 되어다 폐사 되어다 정 조 ...</td>\n",
       "    </tr>\n",
       "  </tbody>\n",
       "</table>\n",
       "<p>3486 rows × 2 columns</p>\n",
       "</div>"
      ],
      "text/plain": [
       "                                                content   \n",
       "0     경기도 아이와 가볼만한곳궁평항 물놀이 주말 방문할아버지 동물농장 갔다가 코스로 많이...  \\\n",
       "1     경기도 화성 궁평항낚시체험 물놀이터글/사진 미니미엄빠요란했던 장맛비도 주춤하고 아이...   \n",
       "2     또 오랜만에 올려보는 포스팅어제 다녀왔는데 만족스러워서 후다닥 써본다-!원래 울애기...   \n",
       "3     이번여름은 아들과함께 물놀이터 도장깨기를 해볼까했는데 첫번째는 광교호수공원 분수 물...   \n",
       "4     궁평항 낚시화성 아이와가볼만한곳©글,사진 준브로맘안녕하세요? 준브로맘이예요~^^지난...   \n",
       "...                                                 ...   \n",
       "3481  화성 용주사 효행박물관 용주사 상량문 –경기 화성 [36]용주사 입구 좌측에 있는 ...   \n",
       "3482  효찰대본산 용주사대한불교조계종 제2교구 본사주소 / 경기도 화성시 송산동 187-2...   \n",
       "3483  응?나는 확인했다! 월요일 휴관 ㅋㅋ공휴일과 정기 휴관일(월요일)이 겹치는 경우당일...   \n",
       "3484  경기도 가볼만한 곳, 화성 용주사에서 특별했던 경험(ft. 대웅보전)경기도 화성 1...   \n",
       "3485  용주사는 신라 문성왕(854년) 때 창건되었지만 병자호란 때 소실되어 폐사되었다가 ...   \n",
       "\n",
       "                                   preprocessed_content  \n",
       "0     경기도 가다 볼 만 한 곳 궁평항 물놀이 주말 방문 하다 아버지 동물농장 가다 코스...  \n",
       "1     경기도 화성 궁평항 낚시 체험 물 놀이터 글  사진 미니 미엄 빠 요란하다 장맛 비...  \n",
       "2     오랜 만 올리다 보다 포스팅 어제 다녀오다 만족스럽다 후 다닥 써다 보다  원래 울...  \n",
       "3     여름 은 아들 물 놀이터 도장 깨다 해보다 하다 첫 번 째 는 광교 호수 공원 분수...  \n",
       "4     궁평항 낚시 화성 가보다 만 한 곳  글  사진 준 브로 맘 안녕하다  준 브로 맘...  \n",
       "...                                                 ...  \n",
       "3481  화성 용주사 효행 박물관 용주사 상량문  경기 화성    용주사 입구 좌측 효행 박...  \n",
       "3482  효 차다 본 산 용주사 대 한 불교 조계종  교구 본사 주소  경기도 화성시 송산동...  \n",
       "3483   는 확인 하다  월요일 관 ㅋㅋ 공휴일 정기 관일  월요일  겹 치다 경우 당일 ...  \n",
       "3484  경기도 가다 볼 만 한 곳  화성 용주사 특별하다 경험    대웅보전  경기도 화성...  \n",
       "3485  용주사 는 신라 문성왕   창건 되어다 병자 호란 소실 되어다 폐사 되어다 정 조 ...  \n",
       "\n",
       "[3486 rows x 2 columns]"
      ]
     },
     "execution_count": 74,
     "metadata": {},
     "output_type": "execute_result"
    }
   ],
   "source": [
    "tmp_data"
   ]
  },
  {
   "cell_type": "code",
   "execution_count": 75,
   "id": "ef97cf0a",
   "metadata": {},
   "outputs": [],
   "source": [
    "tmp_data.to_csv('cluster_data/preprocessed_blog_chungju.csv', index = False, encoding='utf-8-sig')"
   ]
  },
  {
   "cell_type": "code",
   "execution_count": null,
   "id": "43732235",
   "metadata": {},
   "outputs": [],
   "source": []
  }
 ],
 "metadata": {
  "kernelspec": {
   "display_name": "Python 3 (ipykernel)",
   "language": "python",
   "name": "python3"
  },
  "language_info": {
   "codemirror_mode": {
    "name": "ipython",
    "version": 3
   },
   "file_extension": ".py",
   "mimetype": "text/x-python",
   "name": "python",
   "nbconvert_exporter": "python",
   "pygments_lexer": "ipython3",
   "version": "3.9.12"
  }
 },
 "nbformat": 4,
 "nbformat_minor": 5
}
